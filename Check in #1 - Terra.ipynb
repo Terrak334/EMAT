{
 "cells": [
  {
   "cell_type": "markdown",
   "id": "taken-aaron",
   "metadata": {},
   "source": [
    "# Check-in: DATA IN HAND\n",
    "### Terra"
   ]
  },
  {
   "cell_type": "markdown",
   "id": "married-framework",
   "metadata": {},
   "source": [
    "For the final project, I will be focusing on Video Game sales from 1983 - 2019. I collected the data that I want to use from kaggle.com, which is a site that sources free api datasets. The data is given in the form of a csv file that is being called from a json file. I don't neccessarily know how I want the data to be structured when I do the project, but the dataset has information about:\n",
    "\n",
    "- Game names\n",
    "- the platform the games were released on\n",
    "- the years the games were released\n",
    "- the genres of the games\n",
    "- the publishers\n",
    "- the sales in North America, Europe, Japan, and other sales for the rest of the world."
   ]
  },
  {
   "cell_type": "markdown",
   "id": "military-collectible",
   "metadata": {},
   "source": [
    "## Plans"
   ]
  },
  {
   "cell_type": "markdown",
   "id": "collect-generic",
   "metadata": {},
   "source": [
    "Since the sale numbers are listed seperately by location, I could put them all the sales into one element called: global sales. Then I could compare the compare the sales to individually analyze which games sold more, which platforms had the most game sales, and where they sold the most. I could then use this data to see which years sold more games. Once this data was collected, I would attempt to figure out what genre's sold the most in those years and what relation it had with the locations in which the games were sold. \n",
    "\n",
    "***My overarching question could be something along the lines of:*** How have the genre of video games changed the overall sales of video games.\n",
    "\n",
    "However, I do not know if this a viable question to answer with the way that I want to structure the data. So, this question may change."
   ]
  },
  {
   "cell_type": "markdown",
   "id": "trying-ancient",
   "metadata": {},
   "source": [
    "## Link to data"
   ]
  },
  {
   "cell_type": "markdown",
   "id": "hollywood-sierra",
   "metadata": {},
   "source": [
    "The data file that I will be using is [here](https://www.kaggle.com/prashant111/video-games-global-sales-in-volume?select=videogameglobalsales.csv).\n",
    "\n"
   ]
  }
 ],
 "metadata": {
  "kernelspec": {
   "display_name": "Python 3",
   "language": "python",
   "name": "python3"
  },
  "language_info": {
   "codemirror_mode": {
    "name": "ipython",
    "version": 3
   },
   "file_extension": ".py",
   "mimetype": "text/x-python",
   "name": "python",
   "nbconvert_exporter": "python",
   "pygments_lexer": "ipython3",
   "version": "3.9.2"
  }
 },
 "nbformat": 4,
 "nbformat_minor": 5
}
